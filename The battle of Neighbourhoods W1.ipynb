{
 "cells": [
  {
   "cell_type": "markdown",
   "metadata": {},
   "source": [
    "# The Battle of Neighborhoods"
   ]
  },
  {
   "cell_type": "markdown",
   "metadata": {},
   "source": [
    "### Introduction"
   ]
  },
  {
   "cell_type": "markdown",
   "metadata": {},
   "source": [
    "Opening a new Iranian restaurant in Delhi."
   ]
  },
  {
   "cell_type": "markdown",
   "metadata": {},
   "source": [
    "### Business Problem"
   ]
  },
  {
   "cell_type": "markdown",
   "metadata": {},
   "source": [
    "To find a suitable location to establish a food business where the competition of similar type of cuisine is non existent or minimal. And to analyse the districts and locations to spot a location to setup the restaurant.  "
   ]
  },
  {
   "cell_type": "markdown",
   "metadata": {},
   "source": [
    "### Source"
   ]
  },
  {
   "cell_type": "markdown",
   "metadata": {},
   "source": [
    "https://en.wikipedia.org/wiki/List_of_districts_in_India"
   ]
  },
  {
   "cell_type": "code",
   "execution_count": 9,
   "metadata": {},
   "outputs": [
    {
     "data": {
      "text/html": [
       "<div>\n",
       "<style scoped>\n",
       "    .dataframe tbody tr th:only-of-type {\n",
       "        vertical-align: middle;\n",
       "    }\n",
       "\n",
       "    .dataframe tbody tr th {\n",
       "        vertical-align: top;\n",
       "    }\n",
       "\n",
       "    .dataframe thead th {\n",
       "        text-align: right;\n",
       "    }\n",
       "</style>\n",
       "<table border=\"1\" class=\"dataframe\">\n",
       "  <thead>\n",
       "    <tr style=\"text-align: right;\">\n",
       "      <th></th>\n",
       "      <th>Code</th>\n",
       "      <th>District</th>\n",
       "      <th>Headquarters</th>\n",
       "      <th>Polulation (2011)</th>\n",
       "      <th>Area (km^2)</th>\n",
       "      <th>Density (/km^2)</th>\n",
       "    </tr>\n",
       "  </thead>\n",
       "  <tbody>\n",
       "    <tr>\n",
       "      <th>0</th>\n",
       "      <td>CD</td>\n",
       "      <td>Central Delhi</td>\n",
       "      <td>Daryaganj</td>\n",
       "      <td>582320</td>\n",
       "      <td>25</td>\n",
       "      <td>27730</td>\n",
       "    </tr>\n",
       "    <tr>\n",
       "      <th>1</th>\n",
       "      <td>ED</td>\n",
       "      <td>East Delhi</td>\n",
       "      <td>Preet Vihar</td>\n",
       "      <td>1709346</td>\n",
       "      <td>440</td>\n",
       "      <td>27132</td>\n",
       "    </tr>\n",
       "    <tr>\n",
       "      <th>2</th>\n",
       "      <td>ND</td>\n",
       "      <td>New Delhi</td>\n",
       "      <td>Connaught Place</td>\n",
       "      <td>142004</td>\n",
       "      <td>22</td>\n",
       "      <td>4057</td>\n",
       "    </tr>\n",
       "    <tr>\n",
       "      <th>3</th>\n",
       "      <td>NE</td>\n",
       "      <td>North East Delhi</td>\n",
       "      <td>Seelampur</td>\n",
       "      <td>2241624</td>\n",
       "      <td>52</td>\n",
       "      <td>36155</td>\n",
       "    </tr>\n",
       "    <tr>\n",
       "      <th>4</th>\n",
       "      <td>NO</td>\n",
       "      <td>North Delhi</td>\n",
       "      <td>Sadar Bazaar</td>\n",
       "      <td>887978</td>\n",
       "      <td>59</td>\n",
       "      <td>14557</td>\n",
       "    </tr>\n",
       "  </tbody>\n",
       "</table>\n",
       "</div>"
      ],
      "text/plain": [
       "  Code          District     Headquarters  Polulation (2011)  Area (km^2)  \\\n",
       "0   CD     Central Delhi        Daryaganj             582320           25   \n",
       "1   ED        East Delhi      Preet Vihar            1709346          440   \n",
       "2   ND         New Delhi  Connaught Place             142004           22   \n",
       "3   NE  North East Delhi        Seelampur            2241624           52   \n",
       "4   NO       North Delhi     Sadar Bazaar             887978           59   \n",
       "\n",
       "   Density (/km^2)  \n",
       "0            27730  \n",
       "1            27132  \n",
       "2             4057  \n",
       "3            36155  \n",
       "4            14557  "
      ]
     },
     "execution_count": 9,
     "metadata": {},
     "output_type": "execute_result"
    }
   ],
   "source": [
    "import pandas as pd\n",
    "df = pd.read_excel(r'C:\\Users\\Shitij\\Downloads\\capstonedataset.xlsx')\n",
    "df.head()"
   ]
  },
  {
   "cell_type": "code",
   "execution_count": null,
   "metadata": {},
   "outputs": [],
   "source": []
  }
 ],
 "metadata": {
  "kernelspec": {
   "display_name": "Python 3",
   "language": "python",
   "name": "python3"
  },
  "language_info": {
   "codemirror_mode": {
    "name": "ipython",
    "version": 3
   },
   "file_extension": ".py",
   "mimetype": "text/x-python",
   "name": "python",
   "nbconvert_exporter": "python",
   "pygments_lexer": "ipython3",
   "version": "3.8.5"
  }
 },
 "nbformat": 4,
 "nbformat_minor": 4
}
